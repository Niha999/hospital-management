{
  "nbformat": 4,
  "nbformat_minor": 0,
  "metadata": {
    "colab": {
      "name": "Expert system analysis",
      "provenance": [],
      "toc_visible": true,
      "authorship_tag": "ABX9TyO8/rKDRRV+/L5VTpWA7cx6",
      "include_colab_link": true
    },
    "kernelspec": {
      "name": "python3",
      "display_name": "Python 3"
    }
  },
  "cells": [
    {
      "cell_type": "markdown",
      "metadata": {
        "id": "view-in-github",
        "colab_type": "text"
      },
      "source": [
        "<a href=\"https://colab.research.google.com/github/Niha999/hospital-management/blob/master/Expert_system_analysis.ipynb\" target=\"_parent\"><img src=\"https://colab.research.google.com/assets/colab-badge.svg\" alt=\"Open In Colab\"/></a>"
      ]
    },
    {
      "cell_type": "code",
      "metadata": {
        "id": "LZw9LftV5OSP",
        "colab_type": "code",
        "colab": {}
      },
      "source": [
        "#imported important libraries\n",
        "import pandas as pd\n",
        "import seaborn as sns\n",
        "import matplotlib.pyplot as plt\n",
        "%matplotlib inline\n",
        "import numpy as np\n",
        "import warnings\n",
        "warnings.filterwarnings('ignore')"
      ],
      "execution_count": 0,
      "outputs": []
    },
    {
      "cell_type": "code",
      "metadata": {
        "id": "kzCddM2c5VQ0",
        "colab_type": "code",
        "colab": {}
      },
      "source": [
        "\n",
        "df = pd.read_csv('Training.csv')"
      ],
      "execution_count": 0,
      "outputs": []
    },
    {
      "cell_type": "code",
      "metadata": {
        "id": "E-fLn-4T5ZWx",
        "colab_type": "code",
        "colab": {}
      },
      "source": [
        "df.head()"
      ],
      "execution_count": 0,
      "outputs": []
    },
    {
      "cell_type": "code",
      "metadata": {
        "id": "x1Rcl7J15cQd",
        "colab_type": "code",
        "colab": {}
      },
      "source": [
        "#They are 4920 rows, 133 columns\n",
        "df.shape"
      ],
      "execution_count": 0,
      "outputs": []
    },
    {
      "cell_type": "code",
      "metadata": {
        "id": "uwlKuNlQ5caT",
        "colab_type": "code",
        "colab": {}
      },
      "source": [
        "#seeing any null values are there with descending format\n",
        "df.isnull().sum().sort_values(ascending=False)"
      ],
      "execution_count": 0,
      "outputs": []
    },
    {
      "cell_type": "code",
      "metadata": {
        "id": "mK2_L8hG5hLR",
        "colab_type": "code",
        "colab": {}
      },
      "source": [
        "df.columns\n",
        "\n"
      ],
      "execution_count": 0,
      "outputs": []
    },
    {
      "cell_type": "code",
      "metadata": {
        "id": "tjYRqts45hOq",
        "colab_type": "code",
        "colab": {}
      },
      "source": [
        "#looking how much percent each diseases having\n",
        "df['prognosis'].value_counts(normalize = True)"
      ],
      "execution_count": 0,
      "outputs": []
    },
    {
      "cell_type": "code",
      "metadata": {
        "id": "HqJE9qiU5tpp",
        "colab_type": "code",
        "colab": {}
      },
      "source": [
        "#as we can see each no. diseases having the same percentage through bar chart\n",
        "df['prognosis'].value_counts(normalize = True).plot.bar()\n",
        "plt.subplots_adjust(left = 0.9, right = 2 , top = 2, bottom = 1)"
      ],
      "execution_count": 0,
      "outputs": []
    },
    {
      "cell_type": "code",
      "metadata": {
        "id": "DN7_YKv-6U0e",
        "colab_type": "code",
        "colab": {}
      },
      "source": [
        "#checking if there are any other data types\n",
        "df.dtypes.unique()"
      ],
      "execution_count": 0,
      "outputs": []
    },
    {
      "cell_type": "code",
      "metadata": {
        "id": "67fgCVn_6bbQ",
        "colab_type": "code",
        "colab": {}
      },
      "source": [
        "#Analyzing each symptoms/variable\n",
        "for x in range(df.shape[1]):\n",
        "    plt.subplot(7,22,x+1)\n",
        "    plt.subplots_adjust(left = 0.5, right = 16 , top = 10, bottom = 0.5)\n",
        "    sns.countplot(df[df.columns[x]]).set_title(df.columns[x],fontsize=23)"
      ],
      "execution_count": 0,
      "outputs": []
    },
    {
      "cell_type": "code",
      "metadata": {
        "id": "Qp71Rs8E6eOo",
        "colab_type": "code",
        "colab": {}
      },
      "source": [
        "#checking the relationship between the variables by applying the correlation \n",
        "corr = df.corr()\n",
        "mask = np.array(corr)\n",
        "mask[np.tril_indices_from(mask)] = False\n",
        "plt.subplots_adjust(left = 0.5, right = 16 , top = 20, bottom = 0.5)\n",
        "sns.heatmap(corr, mask=mask,vmax=.9, square=True,annot=True, cmap=\"YlGnBu\")"
      ],
      "execution_count": 0,
      "outputs": []
    },
    {
      "cell_type": "code",
      "metadata": {
        "id": "HWim0Sdy6hn1",
        "colab_type": "code",
        "colab": {}
      },
      "source": [
        "#took two high correlation variables and analysing if it is satisfying null hypothesis or alternate hypothesis\n",
        "pd.crosstab(df['cold_hands_and_feets'],df['weight_gain'])"
      ],
      "execution_count": 0,
      "outputs": []
    },
    {
      "cell_type": "code",
      "metadata": {
        "id": "0eehPM3y6kCU",
        "colab_type": "code",
        "colab": {}
      },
      "source": [
        "#imported the chi square contingency\n",
        "from scipy.stats import chi2_contingency"
      ],
      "execution_count": 0,
      "outputs": []
    },
    {
      "cell_type": "code",
      "metadata": {
        "id": "uCtvuGzU7n2D",
        "colab_type": "code",
        "colab": {}
      },
      "source": [
        "#as p value is  0.0  which is less than 0.05 then they are actually different from each other which satisfy the alternate hypothesis \n",
        "chi2_contingency(pd.crosstab(df['cold_hands_and_feets'],df['weight_gain']))"
      ],
      "execution_count": 0,
      "outputs": []
    },
    {
      "cell_type": "code",
      "metadata": {
        "id": "V3VBqx_Q7piq",
        "colab_type": "code",
        "colab": {}
      },
      "source": [
        "#seperated the independent and dependent values to repective variables \n",
        "x = df.drop(['prognosis'],axis =1)\n",
        "y = df['prognosis']"
      ],
      "execution_count": 0,
      "outputs": []
    },
    {
      "cell_type": "code",
      "metadata": {
        "id": "PrNurtbV7qfb",
        "colab_type": "code",
        "colab": {}
      },
      "source": [
        "from sklearn.model_selection import train_test_split"
      ],
      "execution_count": 0,
      "outputs": []
    },
    {
      "cell_type": "code",
      "metadata": {
        "id": "FfoYNyTu7r5f",
        "colab_type": "code",
        "colab": {}
      },
      "source": [
        "#divided into testing and training\n",
        "x_train, x_test, y_train, y_test = train_test_split(x, y, test_size=0.33, random_state=42)"
      ],
      "execution_count": 0,
      "outputs": []
    },
    {
      "cell_type": "code",
      "metadata": {
        "id": "zSxeejEK7vEc",
        "colab_type": "code",
        "colab": {}
      },
      "source": [
        "#imported naive_baye algorithm\n",
        "from sklearn.naive_bayes import MultinomialNB"
      ],
      "execution_count": 0,
      "outputs": []
    },
    {
      "cell_type": "code",
      "metadata": {
        "id": "5w6iEAyC7vHG",
        "colab_type": "code",
        "colab": {}
      },
      "source": [
        "#fitted the model\n",
        "mnb = MultinomialNB()\n",
        "mnb = mnb.fit(x_train, y_train)"
      ],
      "execution_count": 0,
      "outputs": []
    },
    {
      "cell_type": "code",
      "metadata": {
        "id": "_8FaKBHc7vKN",
        "colab_type": "code",
        "colab": {}
      },
      "source": [
        "from sklearn.metrics import accuracy_score"
      ],
      "execution_count": 0,
      "outputs": []
    },
    {
      "cell_type": "code",
      "metadata": {
        "id": "K91_20nn739G",
        "colab_type": "code",
        "colab": {}
      },
      "source": [
        "y_pred = mnb.predict(x_test)"
      ],
      "execution_count": 0,
      "outputs": []
    },
    {
      "cell_type": "code",
      "metadata": {
        "id": "FfzEeJe574AZ",
        "colab_type": "code",
        "colab": {}
      },
      "source": [
        "accuracy_score(y_pred,y_test)"
      ],
      "execution_count": 0,
      "outputs": []
    },
    {
      "cell_type": "code",
      "metadata": {
        "id": "W8zSZ0aK77vL",
        "colab_type": "code",
        "colab": {}
      },
      "source": [
        "#by cross validating we got mean also 100%\n",
        "from sklearn.model_selection import cross_val_score\n",
        "scores = cross_val_score(mnb, x_test, y_test, cv=3)\n",
        "print (scores)\n",
        "print (scores.mean())"
      ],
      "execution_count": 0,
      "outputs": []
    },
    {
      "cell_type": "code",
      "metadata": {
        "id": "d2AsvJgF78bg",
        "colab_type": "code",
        "colab": {}
      },
      "source": [
        "real_diseases = y_test.values"
      ],
      "execution_count": 0,
      "outputs": []
    },
    {
      "cell_type": "code",
      "metadata": {
        "id": "ypeOMuTH78i1",
        "colab_type": "code",
        "colab": {}
      },
      "source": [
        "#for the cross checking purpose i want to see if predicted values and actual values are same else it gives me worng prediction \n",
        "for i in range(0, len(real_diseases)):\n",
        "    if y_pred[i] == real_diseases[i]:\n",
        "        print ('Pred: {0} Actual:{1}'.format(y_pred[i], real_diseases[i]))\n",
        "    else:\n",
        "        print('worng prediction')\n",
        "        print ('Pred: {0} Actual:{1}'.format(y_pred[i], real_diseases[i]))"
      ],
      "execution_count": 0,
      "outputs": []
    },
    {
      "cell_type": "code",
      "metadata": {
        "id": "Kjo0l8NV8BgP",
        "colab_type": "code",
        "colab": {}
      },
      "source": [
        "#imported Kfold\n",
        "from sklearn.model_selection import KFold"
      ],
      "execution_count": 0,
      "outputs": []
    },
    {
      "cell_type": "code",
      "metadata": {
        "id": "Qbd2Px468Bq1",
        "colab_type": "code",
        "colab": {}
      },
      "source": [
        "## Function to run multiple algorithms with different K values of KFold.\n",
        "def evaluate(train_data,kmax,algo):\n",
        "    test_scores = {}\n",
        "    train_scores = {}\n",
        "    for i in range(2,kmax,2):\n",
        "        kf = KFold(n_splits = i)\n",
        "        sum_train = 0\n",
        "        sum_test = 0\n",
        "        data = df\n",
        "        for train,test in kf.split(data):\n",
        "            train_data = data.iloc[train,:]\n",
        "            test_data = data.iloc[test,:]\n",
        "            x_train = train_data.drop([\"prognosis\"],axis=1)\n",
        "            y_train = train_data['prognosis']\n",
        "            x_test = test_data.drop([\"prognosis\"],axis=1)\n",
        "            y_test = test_data[\"prognosis\"]\n",
        "            algo_model = algo.fit(x_train,y_train)\n",
        "            sum_train += algo_model.score(x_train,y_train)\n",
        "            y_pred = algo_model.predict(x_test)\n",
        "            sum_test += accuracy_score(y_test,y_pred)\n",
        "        average_test = sum_test/i\n",
        "        average_train = sum_train/i\n",
        "        test_scores[i] = average_test\n",
        "        train_scores[i] = average_train\n",
        "        print(\"kvalue: \",i)\n",
        "    return(train_scores,test_scores)   "
      ],
      "execution_count": 0,
      "outputs": []
    },
    {
      "cell_type": "code",
      "metadata": {
        "id": "O6PyT6ie8LIK",
        "colab_type": "code",
        "colab": {}
      },
      "source": [
        "from sklearn.ensemble import GradientBoostingClassifier\n",
        "gbm = GradientBoostingClassifier()\n",
        "nb = MultinomialNB()\n",
        "from sklearn.linear_model import LogisticRegression\n",
        "log = LogisticRegression()\n",
        "from sklearn.tree import DecisionTreeClassifier\n",
        "dt = DecisionTreeClassifier(criterion='entropy',)\n",
        "from sklearn.ensemble import RandomForestClassifier\n",
        "ran = RandomForestClassifier(n_estimators = 10)"
      ],
      "execution_count": 0,
      "outputs": []
    },
    {
      "cell_type": "code",
      "metadata": {
        "id": "-t8mruPh8LWy",
        "colab_type": "code",
        "colab": {}
      },
      "source": [
        "algo_dict = {'l_o_g':log,'d_t':dt,'r_a_n':ran,'N_B' : nb}\n",
        "algo_train_scores={}\n",
        "algo_test_scores={}"
      ],
      "execution_count": 0,
      "outputs": []
    },
    {
      "cell_type": "code",
      "metadata": {
        "id": "IlBUiivQ8Q-p",
        "colab_type": "code",
        "colab": {}
      },
      "source": [
        "#decision tree was found to be best fit with training score of 0.1 and testing score of 0.87 with k value of 2 in the k fold cross validation. All the other algorithm seems to be overfit.\n",
        "max_kfold = 11\n",
        "for algo_name in algo_dict.keys():\n",
        "    print(algo_name)\n",
        "    tr_score,tst_score = evaluate(df,max_kfold,algo_dict[algo_name])\n",
        "    algo_train_scores[algo_name] = tr_score\n",
        "    algo_test_scores[algo_name] = tst_score\n",
        "print(algo_train_scores)\n",
        "print(algo_test_scores)"
      ],
      "execution_count": 0,
      "outputs": []
    },
    {
      "cell_type": "code",
      "metadata": {
        "id": "6Lurz6X08VU6",
        "colab_type": "code",
        "colab": {}
      },
      "source": [
        "df_test = pd.DataFrame(algo_test_scores)\n",
        "df_train = pd.DataFrame(algo_train_scores)"
      ],
      "execution_count": 0,
      "outputs": []
    },
    {
      "cell_type": "code",
      "metadata": {
        "id": "hauTPq7y8XiA",
        "colab_type": "code",
        "colab": {}
      },
      "source": [
        "df_test.plot(grid = 1)\n",
        "plt.show()\n",
        "plt.grid()"
      ],
      "execution_count": 0,
      "outputs": []
    },
    {
      "cell_type": "code",
      "metadata": {
        "id": "Idmpx57i8xt9",
        "colab_type": "code",
        "colab": {}
      },
      "source": [
        "#building the model at k value 2 \n",
        "test_scores={}\n",
        "train_scores={}\n",
        "for i in range(2,4,2):\n",
        "    kf = KFold(n_splits = i)\n",
        "    sum_train = 0\n",
        "    sum_test = 0\n",
        "    data = df\n",
        "    for train,test in kf.split(data):\n",
        "        train_data = data.iloc[train,:]\n",
        "        test_data = data.iloc[test,:]\n",
        "        x_train = train_data.drop([\"prognosis\"],axis=1)\n",
        "        y_train = train_data['prognosis']\n",
        "        x_test = test_data.drop([\"prognosis\"],axis=1)\n",
        "        y_test = test_data[\"prognosis\"]\n",
        "        algo_model = dt.fit(x_train,y_train)\n",
        "        sum_train += dt.score(x_train,y_train)\n",
        "        y_pred = dt.predict(x_test)\n",
        "        sum_test += accuracy_score(y_test,y_pred)\n",
        "    average_test = sum_test/i\n",
        "    average_train = sum_train/i\n",
        "    test_scores[i] = average_test\n",
        "    train_scores[i] = average_train\n",
        "    print(\"kvalue: \",i)  "
      ],
      "execution_count": 0,
      "outputs": []
    },
    {
      "cell_type": "code",
      "metadata": {
        "id": "OTpnTDc_82G9",
        "colab_type": "code",
        "colab": {}
      },
      "source": [
        "print(train_scores)\n",
        "print(test_scores)"
      ],
      "execution_count": 0,
      "outputs": []
    },
    {
      "cell_type": "code",
      "metadata": {
        "id": "kAl3Nr7T82zv",
        "colab_type": "code",
        "colab": {}
      },
      "source": [
        "#saved the model \n",
        "from sklearn.externals import joblib\n",
        "joblib.dump(dt,'my_model_for_healthcare')"
      ],
      "execution_count": 0,
      "outputs": []
    },
    {
      "cell_type": "code",
      "metadata": {
        "id": "jetnTAaJ849v",
        "colab_type": "code",
        "colab": {}
      },
      "source": [
        "a = list(range(2,134))\n",
        "i_name  = (input('Enter your name :'))\n",
        "i_age = (int(input('Enter your age:')))\n",
        "for i in range(len(x.columns)):\n",
        "    print(str(i+1+1) + \":\", x.columns[i])\n",
        "choices = input('Enter the Serial no.s which is your Symptoms are exist:  ')\n",
        "b = [int(x) for x in choices.split()]\n",
        "count = 0\n",
        "while count < len(b):\n",
        "    item_to_replace =  b[count]\n",
        "    replacement_value = 1\n",
        "    indices_to_replace = [i for i,x in enumerate(a) if x==item_to_replace]\n",
        "    count += 1\n",
        "    for i in indices_to_replace:\n",
        "        a[i] = replacement_value\n",
        "a = [0 if x !=1 else x for x in a]\n",
        "y_diagnosis = dt.predict([a])\n",
        "y_pred_2 = dt.predict_proba([a])\n",
        "print(('Name of the infection = %s , confidence score of : = %s') %(y_diagnosis[0],y_pred_2.max()* 100),'%' )\n",
        "print(('Name = %s , Age : = %s') %(i_name,i_age))"
      ],
      "execution_count": 0,
      "outputs": []
    }
  ]
}